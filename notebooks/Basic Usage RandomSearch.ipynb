{
 "cells": [
  {
   "cell_type": "code",
   "execution_count": 1,
   "metadata": {},
   "outputs": [],
   "source": [
    "import os\n",
    "import random\n",
    "import numpy as np\n",
    "\n",
    "import tensorflow as tf\n",
    "from tensorflow.keras.layers import *\n",
    "from tensorflow.keras.models import *\n",
    "from tensorflow.keras.callbacks import *\n",
    "from tensorflow.keras.optimizers import Adam\n",
    "from tensorflow.keras.preprocessing.image import ImageDataGenerator\n",
    "\n",
    "from scipy import stats\n",
    "from sklearn.model_selection import KFold\n",
    "\n",
    "from kerashypetune import KerasRandomSearch,KerasRandomSearchCV"
   ]
  },
  {
   "cell_type": "code",
   "execution_count": 2,
   "metadata": {},
   "outputs": [],
   "source": [
    "def set_seed_TF2(seed):\n",
    "    \n",
    "    tf.random.set_seed(seed)\n",
    "    os.environ['PYTHONHASHSEED'] = str(seed)\n",
    "    np.random.seed(seed)\n",
    "    random.seed(seed)"
   ]
  },
  {
   "cell_type": "code",
   "execution_count": 3,
   "metadata": {},
   "outputs": [
    {
     "data": {
      "text/plain": [
       "((6036, 28, 28), (6036,), (2963, 28, 28), (2963,))"
      ]
     },
     "execution_count": 3,
     "metadata": {},
     "output_type": "execute_result"
    }
   ],
   "source": [
    "(x_train, y_train), (x_test, y_test) = tf.keras.datasets.mnist.load_data()\n",
    "\n",
    "np.random.seed(33)\n",
    "subset_train = np.random.uniform(0,1, len(y_train))\n",
    "subset_test = np.random.uniform(0,1, len(y_test))\n",
    "\n",
    "x_train = x_train[subset_train < 0.1] / 255\n",
    "y_train = y_train[subset_train < 0.1]\n",
    "\n",
    "x_test = x_test[subset_test < 0.3] / 255\n",
    "y_test = y_test[subset_test < 0.3]\n",
    "\n",
    "x_train.shape, y_train.shape, x_test.shape, y_test.shape"
   ]
  },
  {
   "cell_type": "code",
   "execution_count": 4,
   "metadata": {},
   "outputs": [],
   "source": [
    "def get_model(param):\n",
    "        \n",
    "    model = Sequential()\n",
    "    model.add(Flatten())\n",
    "    model.add(Dense(param['unit_1'], activation='relu'))\n",
    "    model.add(Dense(param['unit_2'], activation='relu'))\n",
    "    model.add(Dense(10, activation='softmax'))\n",
    "    model.compile(optimizer=Adam(learning_rate=param['lr']), \n",
    "                  loss='sparse_categorical_crossentropy',\n",
    "                  metrics=['accuracy'])\n",
    "    \n",
    "    return model"
   ]
  },
  {
   "cell_type": "code",
   "execution_count": 5,
   "metadata": {},
   "outputs": [],
   "source": [
    "param_grid = {\n",
    "    'unit_1': [128,64], \n",
    "    'unit_2': stats.randint(32, 128),\n",
    "    'lr': stats.uniform(1e-4, 0.1), \n",
    "    'epochs': 100, \n",
    "    'batch_size': 512\n",
    "}"
   ]
  },
  {
   "cell_type": "markdown",
   "metadata": {},
   "source": [
    "# Fixed validation search"
   ]
  },
  {
   "cell_type": "code",
   "execution_count": 6,
   "metadata": {},
   "outputs": [
    {
     "name": "stdout",
     "output_type": "stream",
     "text": [
      "\n",
      "15 trials detected for ('unit_1', 'unit_2', 'lr', 'epochs', 'batch_size')\n",
      "\n",
      "***** (1/15) *****\n",
      "Search({'unit_1': 64, 'unit_2': 61, 'lr': 0.01444716297030787, 'epochs': 100, 'batch_size': 512})\n",
      "Restoring model weights from the end of the best epoch.\n",
      "Epoch 00028: early stopping\n",
      "SCORE: 0.95208 at epoch 18\n",
      "\n",
      "***** (2/15) *****\n",
      "Search({'unit_1': 128, 'unit_2': 105, 'lr': 0.07599530465963981, 'epochs': 100, 'batch_size': 512})\n",
      "Restoring model weights from the end of the best epoch.\n",
      "Epoch 00047: early stopping\n",
      "SCORE: 0.87614 at epoch 37\n",
      "\n",
      "***** (3/15) *****\n",
      "Search({'unit_1': 128, 'unit_2': 81, 'lr': 0.06027688797008003, 'epochs': 100, 'batch_size': 512})\n",
      "Restoring model weights from the end of the best epoch.\n",
      "Epoch 00020: early stopping\n",
      "SCORE: 0.89166 at epoch 10\n",
      "\n",
      "***** (4/15) *****\n",
      "Search({'unit_1': 64, 'unit_2': 96, 'lr': 0.0077648438758605946, 'epochs': 100, 'batch_size': 512})\n",
      "Restoring model weights from the end of the best epoch.\n",
      "Epoch 00028: early stopping\n",
      "SCORE: 0.94971 at epoch 18\n",
      "\n",
      "***** (5/15) *****\n",
      "Search({'unit_1': 128, 'unit_2': 125, 'lr': 0.016525580116352412, 'epochs': 100, 'batch_size': 512})\n",
      "Restoring model weights from the end of the best epoch.\n",
      "Epoch 00020: early stopping\n",
      "SCORE: 0.95241 at epoch 11\n",
      "\n",
      "***** (6/15) *****\n",
      "Search({'unit_1': 128, 'unit_2': 38, 'lr': 0.0645909214996428, 'epochs': 100, 'batch_size': 512})\n",
      "Restoring model weights from the end of the best epoch.\n",
      "Epoch 00030: early stopping\n",
      "SCORE: 0.92778 at epoch 20\n",
      "\n",
      "***** (7/15) *****\n",
      "Search({'unit_1': 128, 'unit_2': 67, 'lr': 0.08966750967475529, 'epochs': 100, 'batch_size': 512})\n",
      "Restoring model weights from the end of the best epoch.\n",
      "Epoch 00031: early stopping\n",
      "SCORE: 0.88289 at epoch 21\n",
      "\n",
      "***** (8/15) *****\n",
      "Search({'unit_1': 128, 'unit_2': 72, 'lr': 0.08190084135348642, 'epochs': 100, 'batch_size': 512})\n",
      "Restoring model weights from the end of the best epoch.\n",
      "Epoch 00034: early stopping\n",
      "SCORE: 0.88761 at epoch 24\n",
      "\n",
      "***** (9/15) *****\n",
      "Search({'unit_1': 64, 'unit_2': 79, 'lr': 0.013918848088394897, 'epochs': 100, 'batch_size': 512})\n",
      "Restoring model weights from the end of the best epoch.\n",
      "Epoch 00030: early stopping\n",
      "SCORE: 0.94566 at epoch 20\n",
      "\n",
      "***** (10/15) *****\n",
      "Search({'unit_1': 64, 'unit_2': 89, 'lr': 0.08138476081282182, 'epochs': 100, 'batch_size': 512})\n",
      "Restoring model weights from the end of the best epoch.\n",
      "Epoch 00020: early stopping\n",
      "SCORE: 0.85083 at epoch 10\n",
      "\n",
      "***** (11/15) *****\n",
      "Search({'unit_1': 64, 'unit_2': 77, 'lr': 0.06838176778307309, 'epochs': 100, 'batch_size': 512})\n",
      "Restoring model weights from the end of the best epoch.\n",
      "Epoch 00043: early stopping\n",
      "SCORE: 0.89976 at epoch 33\n",
      "\n",
      "***** (12/15) *****\n",
      "Search({'unit_1': 64, 'unit_2': 111, 'lr': 0.015463540665504727, 'epochs': 100, 'batch_size': 512})\n",
      "Restoring model weights from the end of the best epoch.\n",
      "Epoch 00026: early stopping\n",
      "SCORE: 0.94836 at epoch 16\n",
      "\n",
      "***** (13/15) *****\n",
      "Search({'unit_1': 128, 'unit_2': 89, 'lr': 0.08835384986718654, 'epochs': 100, 'batch_size': 512})\n",
      "Restoring model weights from the end of the best epoch.\n",
      "Epoch 00060: early stopping\n",
      "SCORE: 0.90753 at epoch 50\n",
      "\n",
      "***** (14/15) *****\n",
      "Search({'unit_1': 64, 'unit_2': 69, 'lr': 0.04780934139549939, 'epochs': 100, 'batch_size': 512})\n",
      "Restoring model weights from the end of the best epoch.\n",
      "Epoch 00021: early stopping\n",
      "SCORE: 0.92913 at epoch 11\n",
      "\n",
      "***** (15/15) *****\n",
      "Search({'unit_1': 128, 'unit_2': 32, 'lr': 0.09679966123092164, 'epochs': 100, 'batch_size': 512})\n",
      "Restoring model weights from the end of the best epoch.\n",
      "Epoch 00084: early stopping\n",
      "SCORE: 0.89436 at epoch 82\n"
     ]
    }
   ],
   "source": [
    "es = EarlyStopping(patience=10, verbose=1, min_delta=0.001, monitor='val_accuracy', mode='auto', restore_best_weights=True)\n",
    "\n",
    "hypermodel = get_model  \n",
    "# to pass external arguments to get_model use lambda function\n",
    "# ==> hypermodel = lambda x: get_model(param=x, ...)\n",
    "# callable(hypermodel) ==> True\n",
    "\n",
    "krs = KerasRandomSearch(hypermodel, param_grid, n_iter=15, sampling_seed=33,\n",
    "                        monitor='val_accuracy', greater_is_better=True, tuner_verbose=1)\n",
    "krs.set_seed(set_seed_TF2, seed=33)\n",
    "krs.search(x_train, y_train, validation_data=(x_test, y_test), callbacks=[es])"
   ]
  },
  {
   "cell_type": "code",
   "execution_count": 7,
   "metadata": {},
   "outputs": [
    {
     "data": {
      "text/plain": [
       "[0.95208,\n",
       " 0.87614,\n",
       " 0.89166,\n",
       " 0.94971,\n",
       " 0.95241,\n",
       " 0.92778,\n",
       " 0.88289,\n",
       " 0.88761,\n",
       " 0.94566,\n",
       " 0.85083,\n",
       " 0.89976,\n",
       " 0.94836,\n",
       " 0.90753,\n",
       " 0.92913,\n",
       " 0.89436]"
      ]
     },
     "execution_count": 7,
     "metadata": {},
     "output_type": "execute_result"
    }
   ],
   "source": [
    "krs.scores"
   ]
  },
  {
   "cell_type": "code",
   "execution_count": 8,
   "metadata": {},
   "outputs": [
    {
     "data": {
      "text/plain": [
       "0.95241"
      ]
     },
     "execution_count": 8,
     "metadata": {},
     "output_type": "execute_result"
    }
   ],
   "source": [
    "krs.best_score"
   ]
  },
  {
   "cell_type": "code",
   "execution_count": 9,
   "metadata": {},
   "outputs": [
    {
     "data": {
      "text/plain": [
       "{'unit_1': 128,\n",
       " 'unit_2': 125,\n",
       " 'lr': 0.016525580116352412,\n",
       " 'epochs': 11,\n",
       " 'batch_size': 512,\n",
       " 'steps_per_epoch': 12}"
      ]
     },
     "execution_count": 9,
     "metadata": {},
     "output_type": "execute_result"
    }
   ],
   "source": [
    "krs.best_params"
   ]
  },
  {
   "cell_type": "code",
   "execution_count": 10,
   "metadata": {},
   "outputs": [
    {
     "data": {
      "text/plain": [
       "<tensorflow.python.keras.engine.sequential.Sequential at 0x195b69daac8>"
      ]
     },
     "execution_count": 10,
     "metadata": {},
     "output_type": "execute_result"
    }
   ],
   "source": [
    "krs.best_model"
   ]
  },
  {
   "cell_type": "markdown",
   "metadata": {},
   "source": [
    "# Fixed validation search Generator"
   ]
  },
  {
   "cell_type": "code",
   "execution_count": 11,
   "metadata": {},
   "outputs": [],
   "source": [
    "gen = ImageDataGenerator(\n",
    "         rotation_range=90,\n",
    "         width_shift_range=0.1,\n",
    "         height_shift_range=0.1,\n",
    "         zoom_range=0.2)"
   ]
  },
  {
   "cell_type": "code",
   "execution_count": 12,
   "metadata": {},
   "outputs": [
    {
     "name": "stdout",
     "output_type": "stream",
     "text": [
      "\n",
      "6 trials detected for ('unit_1', 'unit_2', 'lr', 'epochs', 'batch_size')\n",
      "\n",
      "***** (1/6) *****\n",
      "Search({'unit_1': 64, 'unit_2': 67, 'lr': 0.029108453941641077, 'epochs': 100, 'batch_size': 512})\n",
      "Restoring model weights from the end of the best epoch.\n",
      "Epoch 00016: early stopping\n",
      "SCORE: 0.65913 at epoch 11\n",
      "\n",
      "***** (2/6) *****\n",
      "Search({'unit_1': 128, 'unit_2': 37, 'lr': 0.051806429397159084, 'epochs': 100, 'batch_size': 512})\n",
      "Restoring model weights from the end of the best epoch.\n",
      "Epoch 00021: early stopping\n",
      "SCORE: 0.49713 at epoch 16\n",
      "\n",
      "***** (3/6) *****\n",
      "Search({'unit_1': 128, 'unit_2': 69, 'lr': 0.06736172401499606, 'epochs': 100, 'batch_size': 512})\n",
      "Restoring model weights from the end of the best epoch.\n",
      "Epoch 00015: early stopping\n",
      "SCORE: 0.48127 at epoch 10\n",
      "\n",
      "***** (4/6) *****\n",
      "Search({'unit_1': 64, 'unit_2': 33, 'lr': 0.09865537618503832, 'epochs': 100, 'batch_size': 512})\n",
      "Restoring model weights from the end of the best epoch.\n",
      "Epoch 00015: early stopping\n",
      "SCORE: 0.31657 at epoch 10\n",
      "\n",
      "***** (5/6) *****\n",
      "Search({'unit_1': 128, 'unit_2': 79, 'lr': 0.03890596911515373, 'epochs': 100, 'batch_size': 512})\n",
      "Restoring model weights from the end of the best epoch.\n",
      "Epoch 00025: early stopping\n",
      "SCORE: 0.75329 at epoch 20\n",
      "\n",
      "***** (6/6) *****\n",
      "Search({'unit_1': 128, 'unit_2': 88, 'lr': 0.056937917933407904, 'epochs': 100, 'batch_size': 512})\n",
      "Restoring model weights from the end of the best epoch.\n",
      "Epoch 00019: early stopping\n",
      "SCORE: 0.41006 at epoch 18\n"
     ]
    }
   ],
   "source": [
    "es = EarlyStopping(patience=5, verbose=1, min_delta=0.001, monitor='val_accuracy', mode='auto', restore_best_weights=True)\n",
    "\n",
    "hypermodel = get_model\n",
    "# to pass external arguments to get_model use lambda function\n",
    "# ==> hypermodel = lambda x: get_model(param=x, ...)\n",
    "# callable(hypermodel) ==> True\n",
    "\n",
    "krs = KerasRandomSearch(hypermodel, param_grid, n_iter=6, sampling_seed=33,\n",
    "                        monitor='val_accuracy', greater_is_better=True, tuner_verbose=1)\n",
    "krs.set_seed(set_seed_TF2, seed=33)\n",
    "krs.search(gen.flow(np.expand_dims(x_train,-1), y_train, batch_size=param_grid['batch_size'], seed=33), \n",
    "           validation_data=(np.expand_dims(x_test,-1), y_test), \n",
    "           callbacks=[es], steps_per_epoch=len(x_train)//param_grid['batch_size'])"
   ]
  },
  {
   "cell_type": "code",
   "execution_count": 13,
   "metadata": {},
   "outputs": [
    {
     "data": {
      "text/plain": [
       "{'unit_1': [128, 64],\n",
       " 'unit_2': <scipy.stats._distn_infrastructure.rv_frozen at 0x195b0871f88>,\n",
       " 'lr': <scipy.stats._distn_infrastructure.rv_frozen at 0x195b0871dc8>,\n",
       " 'epochs': 100,\n",
       " 'batch_size': 512}"
      ]
     },
     "execution_count": 13,
     "metadata": {},
     "output_type": "execute_result"
    }
   ],
   "source": [
    "param_grid"
   ]
  },
  {
   "cell_type": "code",
   "execution_count": 14,
   "metadata": {},
   "outputs": [
    {
     "data": {
      "text/plain": [
       "[0.65913, 0.49713, 0.48127, 0.31657, 0.75329, 0.41006]"
      ]
     },
     "execution_count": 14,
     "metadata": {},
     "output_type": "execute_result"
    }
   ],
   "source": [
    "krs.scores"
   ]
  },
  {
   "cell_type": "code",
   "execution_count": 15,
   "metadata": {},
   "outputs": [
    {
     "data": {
      "text/plain": [
       "0.75329"
      ]
     },
     "execution_count": 15,
     "metadata": {},
     "output_type": "execute_result"
    }
   ],
   "source": [
    "krs.best_score"
   ]
  },
  {
   "cell_type": "code",
   "execution_count": 16,
   "metadata": {},
   "outputs": [
    {
     "data": {
      "text/plain": [
       "{'unit_1': 128,\n",
       " 'unit_2': 79,\n",
       " 'lr': 0.03890596911515373,\n",
       " 'epochs': 20,\n",
       " 'batch_size': 512,\n",
       " 'steps_per_epoch': 11}"
      ]
     },
     "execution_count": 16,
     "metadata": {},
     "output_type": "execute_result"
    }
   ],
   "source": [
    "krs.best_params"
   ]
  },
  {
   "cell_type": "code",
   "execution_count": 17,
   "metadata": {},
   "outputs": [
    {
     "data": {
      "text/plain": [
       "<tensorflow.python.keras.engine.sequential.Sequential at 0x195b716dbc8>"
      ]
     },
     "execution_count": 17,
     "metadata": {},
     "output_type": "execute_result"
    }
   ],
   "source": [
    "krs.best_model"
   ]
  },
  {
   "cell_type": "markdown",
   "metadata": {},
   "source": [
    "# Cross validation search"
   ]
  },
  {
   "cell_type": "code",
   "execution_count": 18,
   "metadata": {},
   "outputs": [
    {
     "data": {
      "text/plain": [
       "((8999, 28, 28), (8999,))"
      ]
     },
     "execution_count": 18,
     "metadata": {},
     "output_type": "execute_result"
    }
   ],
   "source": [
    "X = np.concatenate([x_train, x_test])\n",
    "y = np.concatenate([y_train, y_test])\n",
    "\n",
    "X.shape, y.shape"
   ]
  },
  {
   "cell_type": "code",
   "execution_count": 19,
   "metadata": {},
   "outputs": [
    {
     "name": "stdout",
     "output_type": "stream",
     "text": [
      "\n",
      "##################\n",
      "###  Fold 001  ###\n",
      "##################\n",
      "\n",
      "5 trials detected for ('unit_1', 'unit_2', 'lr', 'epochs', 'batch_size')\n",
      "\n",
      "***** (1/5) *****\n",
      "Search({'unit_1': 64, 'unit_2': 97, 'lr': 0.024872053525859684, 'epochs': 100, 'batch_size': 512})\n",
      "Restoring model weights from the end of the best epoch.\n",
      "Epoch 00015: early stopping\n",
      "SCORE: 0.93833 at epoch 5\n",
      "\n",
      "***** (2/5) *****\n",
      "Search({'unit_1': 128, 'unit_2': 77, 'lr': 0.04678478968770971, 'epochs': 100, 'batch_size': 512})\n",
      "Restoring model weights from the end of the best epoch.\n",
      "Epoch 00025: early stopping\n",
      "SCORE: 0.93033 at epoch 19\n",
      "\n",
      "***** (3/5) *****\n",
      "Search({'unit_1': 128, 'unit_2': 37, 'lr': 0.02430847222686987, 'epochs': 100, 'batch_size': 512})\n",
      "Restoring model weights from the end of the best epoch.\n",
      "Epoch 00027: early stopping\n",
      "SCORE: 0.94467 at epoch 17\n",
      "\n",
      "***** (4/5) *****\n",
      "Search({'unit_1': 64, 'unit_2': 114, 'lr': 0.02425552582635281, 'epochs': 100, 'batch_size': 512})\n",
      "Restoring model weights from the end of the best epoch.\n",
      "Epoch 00026: early stopping\n",
      "SCORE: 0.94133 at epoch 16\n",
      "\n",
      "***** (5/5) *****\n",
      "Search({'unit_1': 128, 'unit_2': 125, 'lr': 0.0672094595805298, 'epochs': 100, 'batch_size': 512})\n",
      "Restoring model weights from the end of the best epoch.\n",
      "Epoch 00027: early stopping\n",
      "SCORE: 0.892 at epoch 17\n",
      "\n",
      "##################\n",
      "###  Fold 002  ###\n",
      "##################\n",
      "\n",
      "5 trials detected for ('unit_1', 'unit_2', 'lr', 'epochs', 'batch_size')\n",
      "\n",
      "***** (1/5) *****\n",
      "Search({'unit_1': 64, 'unit_2': 97, 'lr': 0.024872053525859684, 'epochs': 100, 'batch_size': 512})\n",
      "Restoring model weights from the end of the best epoch.\n",
      "Epoch 00018: early stopping\n",
      "SCORE: 0.94 at epoch 15\n",
      "\n",
      "***** (2/5) *****\n",
      "Search({'unit_1': 128, 'unit_2': 77, 'lr': 0.04678478968770971, 'epochs': 100, 'batch_size': 512})\n",
      "Restoring model weights from the end of the best epoch.\n",
      "Epoch 00018: early stopping\n",
      "SCORE: 0.92633 at epoch 16\n",
      "\n",
      "***** (3/5) *****\n",
      "Search({'unit_1': 128, 'unit_2': 37, 'lr': 0.02430847222686987, 'epochs': 100, 'batch_size': 512})\n",
      "Restoring model weights from the end of the best epoch.\n",
      "Epoch 00021: early stopping\n",
      "SCORE: 0.94933 at epoch 11\n",
      "\n",
      "***** (4/5) *****\n",
      "Search({'unit_1': 64, 'unit_2': 114, 'lr': 0.02425552582635281, 'epochs': 100, 'batch_size': 512})\n",
      "Restoring model weights from the end of the best epoch.\n",
      "Epoch 00022: early stopping\n",
      "SCORE: 0.94667 at epoch 12\n",
      "\n",
      "***** (5/5) *****\n",
      "Search({'unit_1': 128, 'unit_2': 125, 'lr': 0.0672094595805298, 'epochs': 100, 'batch_size': 512})\n",
      "Restoring model weights from the end of the best epoch.\n",
      "Epoch 00048: early stopping\n",
      "SCORE: 0.83533 at epoch 38\n",
      "\n",
      "##################\n",
      "###  Fold 003  ###\n",
      "##################\n",
      "\n",
      "5 trials detected for ('unit_1', 'unit_2', 'lr', 'epochs', 'batch_size')\n",
      "\n",
      "***** (1/5) *****\n",
      "Search({'unit_1': 64, 'unit_2': 97, 'lr': 0.024872053525859684, 'epochs': 100, 'batch_size': 512})\n",
      "Restoring model weights from the end of the best epoch.\n",
      "Epoch 00018: early stopping\n",
      "SCORE: 0.94231 at epoch 8\n",
      "\n",
      "***** (2/5) *****\n",
      "Search({'unit_1': 128, 'unit_2': 77, 'lr': 0.04678478968770971, 'epochs': 100, 'batch_size': 512})\n",
      "Restoring model weights from the end of the best epoch.\n",
      "Epoch 00021: early stopping\n",
      "SCORE: 0.92531 at epoch 11\n",
      "\n",
      "***** (3/5) *****\n",
      "Search({'unit_1': 128, 'unit_2': 37, 'lr': 0.02430847222686987, 'epochs': 100, 'batch_size': 512})\n",
      "Restoring model weights from the end of the best epoch.\n",
      "Epoch 00029: early stopping\n",
      "SCORE: 0.94998 at epoch 19\n",
      "\n",
      "***** (4/5) *****\n",
      "Search({'unit_1': 64, 'unit_2': 114, 'lr': 0.02425552582635281, 'epochs': 100, 'batch_size': 512})\n",
      "Restoring model weights from the end of the best epoch.\n",
      "Epoch 00020: early stopping\n",
      "SCORE: 0.93765 at epoch 17\n",
      "\n",
      "***** (5/5) *****\n",
      "Search({'unit_1': 128, 'unit_2': 125, 'lr': 0.0672094595805298, 'epochs': 100, 'batch_size': 512})\n",
      "Restoring model weights from the end of the best epoch.\n",
      "Epoch 00050: early stopping\n",
      "SCORE: 0.88196 at epoch 40\n"
     ]
    }
   ],
   "source": [
    "cv = KFold(n_splits=3, random_state=33, shuffle=True)\n",
    "\n",
    "es = EarlyStopping(patience=10, verbose=1, min_delta=0.001, monitor='val_accuracy', mode='auto', restore_best_weights=True)\n",
    "\n",
    "hypermodel = get_model\n",
    "# to pass external arguments to get_model use lambda function\n",
    "# ==> hypermodel = lambda x: get_model(param=x, ...)\n",
    "\n",
    "krs = KerasRandomSearchCV(hypermodel, param_grid, cv=cv, n_iter=5, sampling_seed=33,\n",
    "                          monitor='val_accuracy', greater_is_better=True, tuner_verbose=1)\n",
    "krs.set_seed(set_seed_TF2, seed=33)\n",
    "krs.search(X, y, callbacks=[es])"
   ]
  },
  {
   "cell_type": "code",
   "execution_count": 20,
   "metadata": {
    "scrolled": true
   },
   "outputs": [
    {
     "data": {
      "text/plain": [
       "{'fold 1': [0.93833, 0.93033, 0.94467, 0.94133, 0.892],\n",
       " 'fold 2': [0.94, 0.92633, 0.94933, 0.94667, 0.83533],\n",
       " 'fold 3': [0.94231, 0.92531, 0.94998, 0.93765, 0.88196]}"
      ]
     },
     "execution_count": 20,
     "metadata": {},
     "output_type": "execute_result"
    }
   ],
   "source": [
    "krs.folds_scores"
   ]
  },
  {
   "cell_type": "code",
   "execution_count": 21,
   "metadata": {},
   "outputs": [
    {
     "data": {
      "text/plain": [
       "{'fold 1': 0.94467, 'fold 2': 0.94933, 'fold 3': 0.94998}"
      ]
     },
     "execution_count": 21,
     "metadata": {},
     "output_type": "execute_result"
    }
   ],
   "source": [
    "krs.folds_best_score"
   ]
  },
  {
   "cell_type": "code",
   "execution_count": 22,
   "metadata": {},
   "outputs": [
    {
     "data": {
      "text/plain": [
       "{'fold 1': {'unit_1': 128,\n",
       "  'unit_2': 37,\n",
       "  'lr': 0.02430847222686987,\n",
       "  'epochs': 17,\n",
       "  'batch_size': 512,\n",
       "  'steps_per_epoch': 12},\n",
       " 'fold 2': {'unit_1': 128,\n",
       "  'unit_2': 37,\n",
       "  'lr': 0.02430847222686987,\n",
       "  'epochs': 11,\n",
       "  'batch_size': 512,\n",
       "  'steps_per_epoch': 12},\n",
       " 'fold 3': {'unit_1': 128,\n",
       "  'unit_2': 37,\n",
       "  'lr': 0.02430847222686987,\n",
       "  'epochs': 19,\n",
       "  'batch_size': 512,\n",
       "  'steps_per_epoch': 12}}"
      ]
     },
     "execution_count": 22,
     "metadata": {},
     "output_type": "execute_result"
    }
   ],
   "source": [
    "krs.folds_best_params"
   ]
  },
  {
   "cell_type": "code",
   "execution_count": 23,
   "metadata": {},
   "outputs": [
    {
     "data": {
      "text/plain": [
       "{'fold 1': <tensorflow.python.keras.engine.sequential.Sequential at 0x195b68d7548>,\n",
       " 'fold 2': <tensorflow.python.keras.engine.sequential.Sequential at 0x195b6e12c88>,\n",
       " 'fold 3': <tensorflow.python.keras.engine.sequential.Sequential at 0x195b25ed1c8>}"
      ]
     },
     "execution_count": 23,
     "metadata": {},
     "output_type": "execute_result"
    }
   ],
   "source": [
    "krs.folds_best_models"
   ]
  },
  {
   "cell_type": "code",
   "execution_count": 24,
   "metadata": {},
   "outputs": [
    {
     "data": {
      "text/plain": [
       "0.94799"
      ]
     },
     "execution_count": 24,
     "metadata": {},
     "output_type": "execute_result"
    }
   ],
   "source": [
    "krs.best_params_score"
   ]
  },
  {
   "cell_type": "code",
   "execution_count": 25,
   "metadata": {},
   "outputs": [
    {
     "data": {
      "text/plain": [
       "[{'unit_1': 128,\n",
       "  'unit_2': 37,\n",
       "  'lr': 0.02430847222686987,\n",
       "  'epochs': 17,\n",
       "  'batch_size': 512,\n",
       "  'steps_per_epoch': 12},\n",
       " {'unit_1': 128,\n",
       "  'unit_2': 37,\n",
       "  'lr': 0.02430847222686987,\n",
       "  'epochs': 11,\n",
       "  'batch_size': 512,\n",
       "  'steps_per_epoch': 12},\n",
       " {'unit_1': 128,\n",
       "  'unit_2': 37,\n",
       "  'lr': 0.02430847222686987,\n",
       "  'epochs': 19,\n",
       "  'batch_size': 512,\n",
       "  'steps_per_epoch': 12}]"
      ]
     },
     "execution_count": 25,
     "metadata": {},
     "output_type": "execute_result"
    }
   ],
   "source": [
    "krs.best_params"
   ]
  }
 ],
 "metadata": {
  "kernelspec": {
   "display_name": "Python 3",
   "language": "python",
   "name": "python3"
  },
  "language_info": {
   "codemirror_mode": {
    "name": "ipython",
    "version": 3
   },
   "file_extension": ".py",
   "mimetype": "text/x-python",
   "name": "python",
   "nbconvert_exporter": "python",
   "pygments_lexer": "ipython3",
   "version": "3.7.4"
  }
 },
 "nbformat": 4,
 "nbformat_minor": 2
}
